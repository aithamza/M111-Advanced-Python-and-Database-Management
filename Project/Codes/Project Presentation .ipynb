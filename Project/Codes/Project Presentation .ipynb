{
 "cells": [
  {
   "cell_type": "markdown",
   "metadata": {
    "cell_id": "0b1c92e5921f46d4906ff459edaf14ef",
    "deepnote_cell_type": "text-cell-h1",
    "formattedRanges": [],
    "is_collapsed": false,
    "tags": []
   },
   "source": [
    "# Analyzing the Casablanca Stock\n",
    "Exchange data project :\n"
   ]
  },
  {
   "cell_type": "markdown",
   "metadata": {
    "cell_id": "ee9d620b-9f99-4934-967f-599bed907fb2",
    "deepnote_cell_type": "text-cell-p",
    "formattedRanges": [],
    "is_collapsed": false,
    "tags": []
   },
   "source": [
    "\n"
   ]
  },
  {
   "cell_type": "markdown",
   "metadata": {
    "cell_id": "5c4df6f970764b9bb57de0feb9233fb7",
    "deepnote_cell_type": "text-cell-p",
    "formattedRanges": [],
    "is_collapsed": false,
    "tags": []
   },
   "source": [
    "In this project we will gain experience with a real problem, apply the skills that you learned before, and be\n",
    "proficient in:"
   ]
  },
  {
   "cell_type": "markdown",
   "metadata": {
    "cell_id": "d34ec29469f547ed9d7c8073bd73ec7f",
    "deepnote_cell_type": "text-cell-bullet",
    "formattedRanges": [],
    "is_collapsed": false,
    "tags": []
   },
   "source": [
    "- Data collection and cleaning."
   ]
  },
  {
   "cell_type": "markdown",
   "metadata": {
    "cell_id": "aa47f9c2-e3e7-44ab-92e4-5052fb9a3cb2",
    "deepnote_cell_type": "text-cell-bullet",
    "formattedRanges": [],
    "is_collapsed": false,
    "tags": []
   },
   "source": [
    "- \n",
    "Data Analysis and visualization with Pandas and Matplotlib."
   ]
  },
  {
   "cell_type": "markdown",
   "metadata": {
    "cell_id": "7d4ab7b5-5f4d-4a24-a692-b1f2b696ec51",
    "deepnote_cell_type": "text-cell-bullet",
    "formattedRanges": [],
    "is_collapsed": false,
    "tags": []
   },
   "source": [
    "- \n",
    "Python object-oriented programming."
   ]
  },
  {
   "cell_type": "markdown",
   "metadata": {
    "cell_id": "455dd73b-15bd-40ef-95a9-1468b0f244e6",
    "deepnote_cell_type": "text-cell-bullet",
    "formattedRanges": [],
    "is_collapsed": false,
    "tags": []
   },
   "source": [
    "- \n",
    "Problem-Solving and learning new algorithms used in Finance"
   ]
  },
  {
   "cell_type": "markdown",
   "metadata": {
    "cell_id": "0f0aaf35-bb66-4fd8-807e-3a8844362477",
    "deepnote_cell_type": "text-cell-bullet",
    "formattedRanges": [],
    "is_collapsed": false,
    "tags": []
   },
   "source": [
    "- \n",
    "Code optimization and acceleration.\n"
   ]
  },
  {
   "cell_type": "markdown",
   "metadata": {
    "cell_id": "b3b2f283a6534af88932efd8005585b6",
    "deepnote_cell_type": "text-cell-h1",
    "formattedRanges": [],
    "is_collapsed": false,
    "tags": []
   },
   "source": [
    "#  PART I : Data Collection :"
   ]
  },
  {
   "cell_type": "markdown",
   "metadata": {
    "cell_id": "b7a7c17484554d988387fd36c3b9c61d",
    "deepnote_cell_type": "text-cell-p",
    "formattedRanges": [
     {
      "fromCodePoint": 232,
      "marks": {
       "bold": true
      },
      "toCodePoint": 291,
      "type": "marks"
     }
    ],
    "is_collapsed": false,
    "tags": []
   },
   "source": [
    "In our project we will work on the insurance sector because of its importance in the financial market, and also to analyze the fluctuations that issued during the 2 years between 2020 and 2022, and therefore our sample consists of: WAFA ASSURANCE, SANLAM MOROCCO,  AGMA,  AFMA,  ATLANTASANAD. \n"
   ]
  },
  {
   "cell_type": "markdown",
   "metadata": {
    "cell_id": "504dae6a-a9b9-47c2-9621-053ee17912a8",
    "deepnote_cell_type": "text-cell-p",
    "formattedRanges": [],
    "is_collapsed": false,
    "tags": []
   },
   "source": [
    "\n",
    "\n"
   ]
  },
  {
   "cell_type": "code",
   "execution_count": 0,
   "metadata": {
    "cell_id": "19ac6218bab443439d922732d9b3c862",
    "deepnote_cell_type": "code",
    "deepnote_to_be_reexecuted": false,
    "execution_millis": 116979,
    "execution_start": 1673378644799,
    "source_hash": "b623e53d",
    "tags": []
   },
   "outputs": [],
   "source": []
  },
  {
   "cell_type": "markdown",
   "metadata": {
    "cell_id": "ef7dd7ea1f4043708f102c5647db9afb",
    "deepnote_cell_type": "text-cell-p",
    "formattedRanges": [
     {
      "fromCodePoint": 56,
      "marks": {
       "bold": true
      },
      "toCodePoint": 117,
      "type": "marks"
     }
    ],
    "is_collapsed": false,
    "tags": []
   },
   "source": [
    "Here is an overview of the composition of our portfolio (WAFA ASSURANCE, SANLAM MOROCCO,  AGMA,  AFMA,  ATLANTASANAD) :"
   ]
  },
  {
   "cell_type": "markdown",
   "metadata": {
    "cell_id": "5e82567cb3794ee9b32e8f045ff9c230",
    "deepnote_cell_type": "markdown",
    "tags": []
   },
   "source": [
    "![Picture title](image-20230114-182719.png)"
   ]
  },
  {
   "cell_type": "markdown",
   "metadata": {
    "cell_id": "2a5b5fbfb9604ea0a094a50c9a69daed",
    "deepnote_cell_type": "text-cell-p",
    "formattedRanges": [
     {
      "fromCodePoint": 38,
      "marks": {
       "bold": true
      },
      "toCodePoint": 56,
      "type": "marks"
     },
     {
      "fromCodePoint": 93,
      "marks": {
       "bold": true
      },
      "toCodePoint": 103,
      "type": "marks"
     }
    ],
    "is_collapsed": false,
    "tags": []
   },
   "source": [
    "And here we have the evolution of the index of insurance in Casablanca market exchange until 14/01/2023."
   ]
  },
  {
   "cell_type": "markdown",
   "metadata": {
    "cell_id": "6c695600f30a4e8b89afcd74dbb2cce1",
    "deepnote_cell_type": "markdown",
    "tags": []
   },
   "source": [
    "![Picture title](image-20230114-183223.png)"
   ]
  }
 ],
 "metadata": {
  "deepnote": {},
  "deepnote_execution_queue": [],
  "deepnote_notebook_id": "cc84faf4d208459b8ab83facb147293e",
  "kernelspec": {
   "display_name": "Python 3 (ipykernel)",
   "language": "python",
   "name": "python3"
  },
  "language_info": {
   "codemirror_mode": {
    "name": "ipython",
    "version": 3
   },
   "file_extension": ".py",
   "mimetype": "text/x-python",
   "name": "python",
   "nbconvert_exporter": "python",
   "pygments_lexer": "ipython3",
   "version": "3.9.13"
  }
 },
 "nbformat": 4,
 "nbformat_minor": 1
}
